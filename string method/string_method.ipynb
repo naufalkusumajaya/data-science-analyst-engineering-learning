{
 "cells": [
  {
   "cell_type": "markdown",
   "metadata": {},
   "source": [
    "## string slicing"
   ]
  },
  {
   "cell_type": "code",
   "execution_count": 1,
   "metadata": {},
   "outputs": [
    {
     "name": "stdout",
     "output_type": "stream",
     "text": [
      "l o\n"
     ]
    }
   ],
   "source": [
    "# String Slicing\n",
    "str = 'Hello World'\n",
    "print(str[3:8:2]) # start inclusive, end exclusive, jarak"
   ]
  },
  {
   "cell_type": "markdown",
   "metadata": {},
   "source": [
    "## strip (case sensitive)"
   ]
  },
  {
   "cell_type": "code",
   "execution_count": 4,
   "metadata": {},
   "outputs": [
    {
     "name": "stdout",
     "output_type": "stream",
     "text": [
      "Hello World\n",
      "Hello World\n",
      "example\n"
     ]
    }
   ],
   "source": [
    "# Strip (menghilangkan spasi di kanan dan kiri kalimat)\n",
    "str = '   Hello World   '\n",
    "print(str.strip())\n",
    "# Strip juga bisa untuk selain spasi\n",
    "str = '#####Hello World####'\n",
    "print(str.strip('#'))\n",
    "# Strip pada kode berikut tidak menganggap argumen didalamnya sebagai satu string utuh, namun satu satu\n",
    "str = 'www.example.com'\n",
    "print(str.strip('cmow.'))"
   ]
  },
  {
   "cell_type": "markdown",
   "metadata": {},
   "source": [
    "### lstrip & rstrip (case sensitive)"
   ]
  },
  {
   "cell_type": "code",
   "execution_count": 5,
   "metadata": {},
   "outputs": [
    {
     "name": "stdout",
     "output_type": "stream",
     "text": [
      "Hello World####\n",
      "####Hello World\n"
     ]
    }
   ],
   "source": [
    "# lstrip menghilangkan trailing character disebelah KIRI string\n",
    "str = '####Hello World####'\n",
    "print(str.lstrip('#'))\n",
    "# rstrip menghilangkan trailing character disebelah KANAN string\n",
    "print(str.rstrip('#'))"
   ]
  },
  {
   "cell_type": "markdown",
   "metadata": {},
   "source": [
    "## removesuffix & removeprefix (case sensitive)"
   ]
  },
  {
   "cell_type": "code",
   "execution_count": 2,
   "metadata": {},
   "outputs": [
    {
     "name": "stdout",
     "output_type": "stream",
     "text": [
      "ee!\n",
      "three!\n",
      "Hello\n"
     ]
    }
   ],
   "source": [
    "# removesuffix dan removeprefix menganggap argumen sebagai string utuh, tidak seperti strip\n",
    "str = 'Arthur: three!'\n",
    "print(str.lstrip('Arthur: '))\n",
    "print(str.removeprefix('Arthur: '))\n",
    "str = 'HelloPython'\n",
    "print(str.removesuffix('Python'))"
   ]
  },
  {
   "cell_type": "markdown",
   "metadata": {},
   "source": [
    "## replace"
   ]
  },
  {
   "cell_type": "code",
   "execution_count": 2,
   "metadata": {},
   "outputs": [
    {
     "name": "stdout",
     "output_type": "stream",
     "text": [
      "public-static void main\n",
      "publicstaticvoidmain\n"
     ]
    }
   ],
   "source": [
    "# sesuai namanya untuk mengganti karakter dengan karakter lain\n",
    "str = 'public static void main'\n",
    "print(str.replace(' ','-',1))\n",
    "# biasanya juga bisa untuk menghilangkan space\n",
    "print(str.replace(' ',''))"
   ]
  },
  {
   "cell_type": "markdown",
   "metadata": {},
   "source": [
    "## regex"
   ]
  },
  {
   "cell_type": "code",
   "execution_count": 3,
   "metadata": {},
   "outputs": [
    {
     "name": "stdout",
     "output_type": "stream",
     "text": [
      "Pada---tahun---pertama,---pemasaran---bookingfield-----akan---berkonsentrasi---di\n",
      "wilayah-Surabaya-timur,-tepatnya-di---kawasan---kampus--ITS,---PPNS,--PENS,--dan\n",
      "Unair.-Hal-ini-dikarenakan-platform-masih-dalam-fase-perkenalan-dan-uji-coba.\n",
      "Sebagai-penyedia-platform-perlu-melakukan-pemetaan-terkait-lokasi-persewaan\n",
      "lapangan---yang-ada.-Pemetaan-ini-membutuhkan-proses-dan-waktu-yang-cukup\n",
      "lama-sehingga-dalam-uji-coba-dilakukan-pemasaran-hanya-di-area-Surabaya-timur\n",
      "terlebih--dahulu--karena--penyedia--platform--berdomisili-di---Surabaya--timur.--Pada\n",
      "tahun---kedua,---pemasaran---bookingfield-----diperluas---hingga---mencakup---seluruh\n",
      "wilayah-Kota-Surabaya.\n",
      "Pada tahun pertama, pemasaran bookingfield akan berkonsentrasi di wilayah Surabaya timur, tepatnya di kawasan kampus ITS, PPNS, PENS, dan Unair. Hal ini dikarenakan platform masih dalam fase perkenalan dan uji coba. Sebagai penyedia platform perlu melakukan pemetaan terkait lokasi persewaan lapangan yang ada. Pemetaan ini membutuhkan proses dan waktu yang cukup lama sehingga dalam uji coba dilakukan pemasaran hanya di area Surabaya timur terlebih dahulu karena penyedia platform berdomisili di Surabaya timur. Pada tahun kedua, pemasaran bookingfield diperluas hingga mencakup seluruh wilayah Kota Surabaya.\n"
     ]
    }
   ],
   "source": [
    "import re\n",
    "str = 'Pada   tahun   pertama,   pemasaran   bookingfield     akan   berkonsentrasi   di\\nwilayah Surabaya timur, tepatnya di   kawasan   kampus  ITS,   PPNS,  PENS,  dan\\nUnair. Hal ini dikarenakan platform masih dalam fase perkenalan dan uji coba.\\nSebagai penyedia platform perlu melakukan pemetaan terkait lokasi persewaan\\nlapangan   yang ada. Pemetaan ini membutuhkan proses dan waktu yang cukup\\nlama sehingga dalam uji coba dilakukan pemasaran hanya di area Surabaya timur\\nterlebih  dahulu  karena  penyedia  platform  berdomisili di   Surabaya  timur.  Pada\\ntahun   kedua,   pemasaran   bookingfield     diperluas   hingga   mencakup   seluruh\\nwilayah Kota Surabaya.'\n",
    "# without regex\n",
    "print(str.replace(' ','-'))\n",
    "# with regex\n",
    "print(re.sub('\\s+', ' ',str))"
   ]
  },
  {
   "cell_type": "markdown",
   "metadata": {},
   "source": [
    "## split"
   ]
  },
  {
   "cell_type": "code",
   "execution_count": 2,
   "metadata": {},
   "outputs": [
    {
     "name": "stdout",
     "output_type": "stream",
     "text": [
      "['public', 'static', 'void', 'main']\n",
      "['public', 'static', 'void', 'main']\n",
      "['public', 'static', 'void-main']\n",
      "public-static-void-main\n"
     ]
    }
   ],
   "source": [
    "# memisah string menjadi array\n",
    "str = 'public static void main'\n",
    "print(str.split()[0])\n",
    "# bisa juga dengan karakter lain\n",
    "str = 'public-static-void-main'\n",
    "print(str.split('-'))\n",
    "# bisa juga minta berapa kali string dipisah\n",
    "print(str.split('-',maxsplit=2))\n",
    "print(str)"
   ]
  },
  {
   "cell_type": "markdown",
   "metadata": {},
   "source": [
    "### rsplit"
   ]
  },
  {
   "cell_type": "code",
   "execution_count": 32,
   "metadata": {},
   "outputs": [
    {
     "name": "stdout",
     "output_type": "stream",
     "text": [
      "['public-static-void', 'main']\n"
     ]
    }
   ],
   "source": [
    "# sama seperti split namun mulai dari kanan\n",
    "str = 'public-static-void-main'\n",
    "print(str.rsplit('-', maxsplit=1))"
   ]
  },
  {
   "cell_type": "markdown",
   "metadata": {},
   "source": [
    "## join"
   ]
  },
  {
   "cell_type": "code",
   "execution_count": 33,
   "metadata": {},
   "outputs": [
    {
     "name": "stdout",
     "output_type": "stream",
     "text": [
      "public static void main\n"
     ]
    }
   ],
   "source": [
    "# menggabung arr menjadi str\n",
    "arr = ['public', 'static', 'void', 'main']\n",
    "print(\" \".join(arr))"
   ]
  },
  {
   "cell_type": "markdown",
   "metadata": {},
   "source": [
    "## upper,lower,capitalize,title"
   ]
  },
  {
   "cell_type": "code",
   "execution_count": 44,
   "metadata": {},
   "outputs": [
    {
     "name": "stdout",
     "output_type": "stream",
     "text": [
      "Public Static Void Main\n"
     ]
    }
   ],
   "source": [
    "# capitalize each word\n",
    "capitalize_word = \" \".join(list(map(lambda arr: arr.capitalize(), arr)))\n",
    "print(capitalize_word)"
   ]
  },
  {
   "cell_type": "code",
   "execution_count": 82,
   "metadata": {},
   "outputs": [
    {
     "name": "stdout",
     "output_type": "stream",
     "text": [
      "PYTHON IS AWESOME\n",
      "python is awesome\n",
      "Python is awesome\n",
      "Python Is Awesome\n"
     ]
    }
   ],
   "source": [
    "str = 'python is awesome'\n",
    "print(str.upper())\n",
    "str = 'PYTHON IS AWESOME'\n",
    "print(str.lower())\n",
    "str = 'python is awesome'\n",
    "print(str.capitalize())\n",
    "str = 'python is awesome'\n",
    "print(str.title())"
   ]
  },
  {
   "cell_type": "markdown",
   "metadata": {},
   "source": [
    "## isupper, islower"
   ]
  },
  {
   "cell_type": "code",
   "execution_count": 50,
   "metadata": {},
   "outputs": [
    {
     "name": "stdout",
     "output_type": "stream",
     "text": [
      "False\n",
      "True\n",
      "True\n",
      "False\n"
     ]
    }
   ],
   "source": [
    "# jika ada satu karakter yg tidak lower, return false\n",
    "print('Python is awesome!'.islower())\n",
    "print('python is awesome!'.islower())\n",
    "\n",
    "# jika ada satu karakter yg tidak upper, return false\n",
    "print('PYTHON IS AWESOME!'.isupper())\n",
    "print('PYTHON IS AWESOMe!'.isupper())"
   ]
  },
  {
   "cell_type": "markdown",
   "metadata": {},
   "source": [
    "## isalpha , isnumeric , isalnum"
   ]
  },
  {
   "cell_type": "code",
   "execution_count": 57,
   "metadata": {},
   "outputs": [
    {
     "name": "stdout",
     "output_type": "stream",
     "text": [
      "True\n",
      "False\n",
      "True\n",
      "False\n",
      "True\n",
      "False\n"
     ]
    }
   ],
   "source": [
    "# isalpha() return true jika tidak ada karakter selain A-Z/a-z\n",
    "print('cython'.isalpha())\n",
    "print('python3'.isalpha())\n",
    "# isnumeric() return true jika tidak ada karakter selain 0-9\n",
    "print('123'.isnumeric())\n",
    "print('a1b2c3'.isnumeric())\n",
    "# isalnum() return true jika tidak ada karakter selain 0-9 dan A-Z/a-z\n",
    "print('test123'.isalnum())\n",
    "print('python-123'.isalnum())"
   ]
  },
  {
   "cell_type": "markdown",
   "metadata": {},
   "source": [
    "## count"
   ]
  },
  {
   "cell_type": "code",
   "execution_count": 60,
   "metadata": {},
   "outputs": [
    {
     "name": "stdout",
     "output_type": "stream",
     "text": [
      "2\n",
      "0\n"
     ]
    }
   ],
   "source": [
    "# menghitung berapa kali karakter muncul\n",
    "print('hello world'.count('o'))\n",
    "# argumen dianggap sebagai 1 string penuh\n",
    "print('hello world'.count('oo'))"
   ]
  },
  {
   "cell_type": "markdown",
   "metadata": {},
   "source": [
    "## find"
   ]
  },
  {
   "cell_type": "code",
   "execution_count": 68,
   "metadata": {},
   "outputs": [
    {
     "name": "stdout",
     "output_type": "stream",
     "text": [
      "1\n",
      "achine Learning\n",
      "-1\n",
      "10\n"
     ]
    }
   ],
   "source": [
    "# get index\n",
    "str = 'Machine Learning'\n",
    "idx = str.find('a')\n",
    "print(idx)\n",
    "print(str[idx:])\n",
    "\n",
    "# jika tidak ketemu, return -1\n",
    "print(str.find('aa'))\n",
    "\n",
    "# bisa mengatur mulai dari index ke berapa\n",
    "print(str.find('a',2))"
   ]
  },
  {
   "cell_type": "markdown",
   "metadata": {},
   "source": [
    "### rfind"
   ]
  },
  {
   "cell_type": "code",
   "execution_count": 69,
   "metadata": {},
   "outputs": [
    {
     "name": "stdout",
     "output_type": "stream",
     "text": [
      "10\n"
     ]
    }
   ],
   "source": [
    "# mencarinya mulai dari kanan\n",
    "print(str.rfind('a'))"
   ]
  },
  {
   "cell_type": "markdown",
   "metadata": {},
   "source": [
    "## startswith & endswith"
   ]
  },
  {
   "cell_type": "code",
   "execution_count": 73,
   "metadata": {},
   "outputs": [
    {
     "name": "stdout",
     "output_type": "stream",
     "text": [
      "True\n",
      "True\n"
     ]
    }
   ],
   "source": [
    "# return boolean\n",
    "print('gendon'.startswith('g'))\n",
    "print('gendon'.endswith('n'))"
   ]
  },
  {
   "cell_type": "markdown",
   "metadata": {},
   "source": [
    "## partition"
   ]
  },
  {
   "cell_type": "code",
   "execution_count": 75,
   "metadata": {},
   "outputs": [
    {
     "name": "stdout",
     "output_type": "stream",
     "text": [
      "('Python ', 'is', ' awesome')\n",
      "('Python is awesome', '', '')\n"
     ]
    }
   ],
   "source": [
    "# membagi string menjadi tuple yang berisikan 3 string\n",
    "str = 'Python is awesome'\n",
    "parts = str.partition('is')\n",
    "print(parts)\n",
    "# jika tidak argument tidak ditemukan maka:\n",
    "parts = str.partition('was')\n",
    "print(parts)"
   ]
  },
  {
   "cell_type": "markdown",
   "metadata": {},
   "source": [
    "## center, ljust, rjust"
   ]
  },
  {
   "cell_type": "code",
   "execution_count": 81,
   "metadata": {},
   "outputs": [
    {
     "name": "stdout",
     "output_type": "stream",
     "text": [
      "------Python is awesome-------\n",
      "Python is awesome-------------\n",
      "-------------Python is awesome\n"
     ]
    }
   ],
   "source": [
    "# mengatur alignment dan mengatur panjang string dengan menambah one character long\n",
    "s = 'Python is awesome'\n",
    "print(s.center(30,'-'))\n",
    "print(s.ljust(30,'-'))\n",
    "print(s.rjust(30,'-'))"
   ]
  },
  {
   "cell_type": "markdown",
   "metadata": {},
   "source": [
    "## Swapcase"
   ]
  },
  {
   "cell_type": "code",
   "execution_count": 83,
   "metadata": {},
   "outputs": [
    {
     "name": "stdout",
     "output_type": "stream",
     "text": [
      "hELLO wORLD\n"
     ]
    }
   ],
   "source": [
    "# Jika upper jadi lower, dsb\n",
    "s = 'Hello World'\n",
    "print(s.swapcase())"
   ]
  },
  {
   "cell_type": "markdown",
   "metadata": {},
   "source": [
    "## zfill"
   ]
  },
  {
   "cell_type": "code",
   "execution_count": 1,
   "metadata": {},
   "outputs": [
    {
     "name": "stdout",
     "output_type": "stream",
     "text": [
      "0000mangan\n"
     ]
    }
   ],
   "source": [
    "# menambah angka nol ke string supaya panjangngnya sesuai apa yang diinginkan\n",
    "s = 'mangan'\n",
    "print(s.zfill(10))"
   ]
  }
 ],
 "metadata": {
  "kernelspec": {
   "display_name": "Python 3",
   "language": "python",
   "name": "python3"
  },
  "language_info": {
   "codemirror_mode": {
    "name": "ipython",
    "version": 3
   },
   "file_extension": ".py",
   "mimetype": "text/x-python",
   "name": "python",
   "nbconvert_exporter": "python",
   "pygments_lexer": "ipython3",
   "version": "3.11.1"
  },
  "orig_nbformat": 4,
  "vscode": {
   "interpreter": {
    "hash": "2f1451d4eb297bedb98157523fda50493cb6341e41b81591ee845383f80e3a45"
   }
  }
 },
 "nbformat": 4,
 "nbformat_minor": 2
}
